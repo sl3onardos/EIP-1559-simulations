{
 "cells": [
  {
   "cell_type": "markdown",
   "metadata": {},
   "source": [
    "# Transaction Fee Update Rules: Average Case Analysis\n",
    "\n",
    "Start by choosing the simulation environment: the update rule and the distribution of valuations. One of the two, will be changing across the experiment according to the bifurcation parameter (learning rate or range of valuations). Let $T/2$ denote the target block-size and let\n",
    "$$y_t:=\\frac{g_t-T/2}{T/2},$$ where $g_t:=g(b_t)$ is the block-size of block at height $t$ given that the basefee is $b_t$. \n",
    "---\n",
    "The **update rule** can be any of \n",
    "\n",
    "| Update Rule $\\phantom{444444}$ | Description    | Comment  |\n",
    "| :----------- | :---------- | :----|\n",
    "| linear      | $b_{t+1} = b_t(1+dy_t)$ |  |\n",
    "| exponential | $$b_{t+1} = b_t(1+d)^{y_t}\\phantom{44444}$$|  |\n",
    "| amm |$b_{t+1}=\\frac{d}{T/2}e^{dz_t}$ | $$\\text{where } z_t=\\max{\\left\\{0, z_{t-1}+y_{t-1}\\right\\}} \\text{ and } z_0=0.$$| \n",
    "| | |\n",
    "---\n",
    "The **distribution of valuations**, $\\text{rv}(m,w)$, can be any of\n",
    "\n",
    "| Distribution $\\phantom{44}$ | Parameters |$(\\mu, \\sigma^2)\\phantom{44444}$  | Support | Comment  |\n",
    "| :----------- | :----- | :------- | :---------| :---- |\n",
    "| uniform | $m$ | $w^2/12$ | $[m-w/2, m + w/2]$ |\n",
    "| normal | $m$ |$ w^2/16$  | $(m-w,m+w)$ (essentially)$\\phantom{5555}$ |\n",
    "| gamma | $m+aw$ |$ w^2a$ | $$\\hspace{-65pt}[m-aw,+\\infty)$$ | $a=1 \\to$ exponential| \n",
    "|\n",
    "--- "
   ]
  },
  {
   "cell_type": "markdown",
   "metadata": {
    "tags": []
   },
   "source": [
    "#### Import packages; initialize parameters and environment\n",
    "\n",
    "The code in the next cell has the following functionalities\n",
    "- imports required modules\n",
    "- defines the dictionary \"parameters\" with all model parameters\n",
    "- defines the dictionary \"environment\" with the update rule and the distribution of valuations\n",
    "- stores the update rule in ur and the distribution of valuations in rv. Note that one of the two will keep changing later on depending on which (bifurcation) parameter we want to study."
   ]
  },
  {
   "cell_type": "code",
   "execution_count": 1,
   "metadata": {},
   "outputs": [
    {
     "name": "stdout",
     "output_type": "stream",
     "text": [
      "Populating the interactive namespace from numpy and matplotlib\n"
     ]
    }
   ],
   "source": [
    "%matplotlib inline\n",
    "%pylab inline\n",
    "import scipy\n",
    "import scipy.stats\n",
    "import numpy as np\n",
    "from scipy.optimize import brentq\n",
    "from collections.abc import Iterable \n",
    "\n",
    "def initialize_experiment(rule, distribution, d, w):\n",
    "    parameters  = {\n",
    "    \"m\": 210, \n",
    "    \"w\": w, \n",
    "    \"d\": d, \n",
    "    \"demand\": 2, \n",
    "    \"premium\": 1\n",
    "    }\n",
    "    environment = {\n",
    "    \"rule\": rule, \n",
    "    \"distribution\": distribution\n",
    "    }\n",
    "    return parameters, environment\n",
    "\n",
    "def dist_valuations(m, w, distribution):\n",
    "    if distribution == \"uniform\":\n",
    "        rv = scipy.stats.uniform(loc = m-w/2, scale = w)\n",
    "        # uniform distribution with mean $m$ on [m-w/2, m + w/2]\n",
    "        \n",
    "    elif distribution == \"normal\":\n",
    "        rv = scipy.stats.norm(loc = m, scale = w/4)\n",
    "        # normal distribution with mean = m on [m-w/2, m+w/2] (essentially: w/2 are 3 stds)\n",
    "        \n",
    "    elif distribution == \"gamma\":\n",
    "        a  = 0.5\n",
    "        rv = scipy.stats.gamma(a, loc = m-a*w, scale = w)\n",
    "        # gamma distribution starting at m-a*w with mean m. if a = 1 this is the exponential\n",
    "        \n",
    "    return rv\n",
    "\n",
    "\n",
    "def update_rule(rule):\n",
    "    if rule == \"linear\":\n",
    "        def fbf(basefee, blocksize, d, exgas):\n",
    "            y  = 2*blocksize - 1\n",
    "            ex = max(0, exgas + y)\n",
    "            bf = basefee*(1 + d*y)\n",
    "            return bf, ex\n",
    "        \n",
    "    elif rule == \"exponential\":\n",
    "        def fbf(basefee, blocksize, d, exgas):\n",
    "            y  = 2*blocksize - 1   \n",
    "            ex = max(0, exgas + y)\n",
    "            bf = basefee*(1 + d)**y \n",
    "            return bf, ex\n",
    "    \n",
    "    elif rule == \"amm\":\n",
    "        def fbf(basefee, blocksize, d, exgas):\n",
    "            y  = 2*blocksize - 1\n",
    "            ex = max(0, exgas + y)\n",
    "            bf = (d/500)*np.exp(d*ex)\n",
    "            return bf, ex\n",
    "    \n",
    "    return fbf"
   ]
  },
  {
   "cell_type": "markdown",
   "metadata": {},
   "source": [
    "The next function provides $b^*$ and the boundaries for the linear rule"
   ]
  },
  {
   "cell_type": "code",
   "execution_count": 2,
   "metadata": {},
   "outputs": [],
   "source": [
    "def calc_bstar(parameters, rv):\n",
    "    # is correct only for the uniform distribution\n",
    "    L = parameters[\"m\"]\n",
    "    U = parameters[\"m\"] + 4*parameters[\"w\"] \n",
    "    #bstar = L - epsilon + (U-L)*(1-1/(2*l));\n",
    "    bstar = rv.isf(1/(2*parameters[\"demand\"])) - parameters[\"premium\"] \n",
    "    bmin  = (1 - parameters[\"d\"])*bstar;\n",
    "    bmax  = (1 + parameters[\"d\"])*bstar;\n",
    "\n",
    "    return bstar, bmin, bmax"
   ]
  },
  {
   "cell_type": "markdown",
   "metadata": {
    "tags": []
   },
   "source": [
    "#### Define main and auxiliary functions for dynamics and plots\n",
    "In the next cell, we define the main subroutines to run the dynamics"
   ]
  },
  {
   "cell_type": "code",
   "execution_count": 3,
   "metadata": {},
   "outputs": [],
   "source": [
    "def main_step(bf, parameters, rv, ur, ex):\n",
    "    blz     = np.min((1, parameters[\"demand\"]*rv.sf(bf + parameters[\"premium\"])))\n",
    "    bf, ex  = ur(bf, blz, parameters[\"d\"], ex)\n",
    "    return bf, blz, ex\n",
    "\n",
    "def IterateList(x, Niter, Nskip, parameters, rv, ur, ex):\n",
    "    for i in range(Nskip):\n",
    "        x, blz, ex = main_step(x, parameters, rv, ur, ex)\n",
    "    \n",
    "    xs = [x]\n",
    "    bs = [blz]\n",
    "    es = [ex]\n",
    "    \n",
    "    for i in range(Niter-1):\n",
    "        x, blz, ex = main_step(x, parameters, rv, ur, ex)\n",
    "        xs.append(x)\n",
    "        bs.append(blz)\n",
    "        es.append(ex)\n",
    "    \n",
    "    return xs, bs, es\n",
    "\n",
    "def run_eip(hyperparameters, rv):\n",
    "    [dMin, dMax, deltad, x0, e0, Nskip, Niter] = hyperparameters\n",
    "    dArray = np.arange(dMin, dMax, deltad)\n",
    "    ds     = []\n",
    "    dsm    = []\n",
    "    trajx  = []\n",
    "    trajxm = []\n",
    "    trajb  = []\n",
    "    trajbm = []    \n",
    "    traje  = []\n",
    "    trajem = []\n",
    "    bstars = []\n",
    "    bmins  = []\n",
    "    bmaxs  = []\n",
    "    for d in dArray:\n",
    "        dsm.extend([d]*1)\n",
    "        ds.extend([d]*Niter)\n",
    "        parameters[\"d\"] = d \n",
    "        ur = update_rule(environment[\"rule\"])\n",
    "        xs, bs, es = IterateList(x0, Niter, Nskip, parameters, rv, ur, e0)\n",
    "        trajx.extend(xs)\n",
    "        trajb.extend(bs)\n",
    "        traje.extend(es)\n",
    "        trajxm.append(np.mean(xs))\n",
    "        trajbm.append(np.mean(bs))\n",
    "        trajem.append(np.mean(es))        \n",
    "        [bstar,bmin,bmax] = calc_bstar(parameters,rv)\n",
    "        bstars.append(bstar)\n",
    "        bmins.append(bmin)\n",
    "        bmaxs.append(bmax)\n",
    "    return ds, trajx, trajb, traje, dsm, trajxm, trajbm, trajem, bstars, bmins, bmaxs"
   ]
  },
  {
   "cell_type": "markdown",
   "metadata": {},
   "source": [
    "In the next cell, we define the code to generate the plot"
   ]
  },
  {
   "cell_type": "code",
   "execution_count": 4,
   "metadata": {},
   "outputs": [],
   "source": [
    "def BifurcationDiagram(output):\n",
    "    [ds, trajx, trajb, traje, dsm, trajxm, trajbm, trajem, bstars, bmins, bmaxs] = output\n",
    "    \n",
    "    plt.subplots(2, 2, sharex = True, figsize=(20,10), tight_layout = True)\n",
    "    plt.rcParams['font.size'] = '16'\n",
    "    \n",
    "    plt.subplot(221)\n",
    "    xlim((0,ds[-1]+0.01))\n",
    "    scatter(ds, trajx, marker ='.', s = 0.1)\n",
    "    plot(dsm,bstars,'r', linewidth=0.81)\n",
    "    plot(dsm,bmins,'--r',linewidth=0.81)\n",
    "    plot(dsm,bmaxs,'--r',linewidth=0.81)\n",
    "    ylabel('Basefee')\n",
    "    title('Individual trajectories')\n",
    "    \n",
    "    plt.subplot(222)\n",
    "    scatter(dsm, trajxm, marker ='.', s = 1)\n",
    "    plot(dsm,bstars,'r', linewidth=0.81)\n",
    "    plot(dsm,bmins,'--r',linewidth=0.81)\n",
    "    plot(dsm,bmaxs,'--r',linewidth=0.81)\n",
    "    lgnd = legend(['$b*$','$(1-d)b*$', '$(1+d)b*$','base fee $b_t$'], bbox_to_anchor=(1.3,1.035), loc=\"upper right\")\n",
    "    lgnd.legendHandles[3]._sizes = [50]   \n",
    "    title('Averages')\n",
    "    \n",
    "    plt.subplot(223)\n",
    "    scatter(ds, trajb, marker ='.', s = 0.1)\n",
    "    #xlabel('Range of valuations $w$')\n",
    "    ylabel('Block-size')\n",
    "            \n",
    "    plt.subplot(224)\n",
    "    scatter(dsm, trajbm, marker ='.', s = 1)\n",
    "    #xlabel('Range of valuations $w$')\n",
    "    \n",
    "#     plt.subplot(325)\n",
    "#     scatter(ds, traje, marker ='.', s = 0.1)\n",
    "#     ylim((min(traje)-2, max(traje)+1))\n",
    "#     xlabel('Adjustment quotient $d$')\n",
    "#     ylabel('Excess gas')\n",
    "            \n",
    "#     plt.subplot(326)\n",
    "#     scatter(dsm, trajem, marker ='.', s = 1)\n",
    "#     ylim((min(traje)-2, max(traje)+1))\n",
    "#     xlabel('Adjustment quotient $d$')\n",
    "    "
   ]
  },
  {
   "cell_type": "markdown",
   "metadata": {},
   "source": [
    "#### Run the dynamic\n",
    "The next routine runs the dynamic and returns the trajectories of blocksizes and basefees. First, in the next, set the parameters of the experiment\n",
    "- hyperparameters = [`dMin, dMax, Deltad, x0, e0, Nskip, Niter`]\n",
    "- output = [`ds, trajx, trajb, dsm, trajxm, trajbm, bstars, bmins, bmaxs`]\n",
    "\n",
    "where `ds`, `trajx` (basefees), `trajb` (blocksizes) refer to individual trajectories and `dsm`, `trajxm`, `trajbm` to averages. The ideal values (that achieve 0.5 blocksize) are stored in `bstars` and `bmins, bmaxs` refer to the bounds for the linear-EIP1559."
   ]
  },
  {
   "cell_type": "code",
   "execution_count": 5,
   "metadata": {},
   "outputs": [],
   "source": [
    "parameters, environment = initialize_experiment(rule = \"linear\", distribution = \"normal\", d = 0.125, w = 10) \n",
    "rv = dist_valuations(parameters[\"m\"], parameters[\"w\"], environment[\"distribution\"])"
   ]
  },
  {
   "cell_type": "code",
   "execution_count": 26,
   "metadata": {},
   "outputs": [],
   "source": [
    "hyperparameters = [0.001, 0.7, 0.0005, 200, 0, 100, 300] # dMin, dMax, Deltad, x0, e0, Nskip, Niter"
   ]
  },
  {
   "cell_type": "code",
   "execution_count": 11,
   "metadata": {},
   "outputs": [],
   "source": [
    "output = run_eip(hyperparameters, rv)"
   ]
  },
  {
   "cell_type": "markdown",
   "metadata": {
    "tags": []
   },
   "source": [
    "#### Plots\n",
    "Using the outputs from the previous routine \"run_eip()\", we plot the bifurcation diagrams in the next cell"
   ]
  },
  {
   "cell_type": "code",
   "execution_count": 12,
   "metadata": {},
   "outputs": [],
   "source": [
    "def BifurcationDiagram_individual(output):\n",
    "    [ds, trajx, trajb, traje, dsm, trajxm, trajbm, trajem, bstars, bmins, bmaxs] = output\n",
    "    \n",
    "    plt.subplots(2, 1, sharex = True, figsize=(50,50), tight_layout = True)\n",
    "    plt.rcParams['font.size'] = '60'\n",
    "    \n",
    "    plt.subplot(211)\n",
    "    xlim((0,ds[-1]+0.01))\n",
    "    scatter(ds, trajx, marker ='.', s = 50)\n",
    "    plot(dsm,bstars,'r', linewidth=0.81)\n",
    "    plot(dsm,bmins,'--r',linewidth=0.81)\n",
    "    plot(dsm,bmaxs,'--r',linewidth=0.81)\n",
    "    ylabel('Base fee', fontsize = 60)\n",
    "    xlim([0, 0.3])\n",
    "    ylim([140, 280])\n",
    "    title('Individual trajectories', fontsize = 60)\n",
    "      \n",
    "    plt.subplot(212)\n",
    "    scatter(ds, trajb, marker ='.', s = 50)\n",
    "    xlim([0, 0.3])\n",
    "    xlabel('Learning rate $d$')\n",
    "    ylabel('Block-sizes',fontsize =60)    "
   ]
  },
  {
   "cell_type": "code",
   "execution_count": 13,
   "metadata": {},
   "outputs": [],
   "source": [
    "#uncomment to generate individual trajectory plots\n",
    "#BifurcationDiagram_individual(output)\n",
    "#savefig('bf_rate_individual_normal.jpg',bbox_inches='tight', dpi=50)"
   ]
  },
  {
   "cell_type": "markdown",
   "metadata": {
    "tags": []
   },
   "source": [
    "Zoom-in in the first plot"
   ]
  },
  {
   "cell_type": "code",
   "execution_count": 23,
   "metadata": {
    "tags": []
   },
   "outputs": [],
   "source": [
    "#savefig('base_fee_lin.jpg',bbox_inches='tight', dpi=1200)\n",
    "[ds, trajx, trajb, traje, dsm, trajxm, trajbm, trajem, bstars, bmins, bmaxs] = output\n",
    "fig = plt.figure(figsize(50,50))\n",
    "xlim((0,ds[-1]+0.01))\n",
    "scatter(ds, trajb, marker ='.', s = 10)\n",
    "# plot(dsm,bstars,'r', linewidth=0.81)\n",
    "# plot(dsm,bmins,'--r',linewidth=0.81)\n",
    "# plot(dsm,bmaxs,'--r',linewidth=0.81)\n",
    "# ylabel('Basefee')\n",
    "# title('Individual trajectories')\n",
    "xlabel('Learning rate $d$', fontsize=60)\n",
    "ylabel('Block sizes', fontsize=60)\n",
    "lgnd = legend(['$b*$','$(1-d)b*$', '$(1+d)b*$','basefee $b_t$'], fontsize =40, loc = \"upper left\")\n",
    "lgnd.legendHandles[0]._sizes = [500]\n",
    "title('Bifurcation diagram: learning rate', fontsize = 60)\n",
    "plt.xticks(fontsize=60);\n",
    "plt.yticks(fontsize=60);\n",
    "\n",
    "plt.close(fig) #comment to see the figure\n",
    "#savefig('bz_normal.jpg',bbox_inches='tight', dpi=50)"
   ]
  },
  {
   "cell_type": "code",
   "execution_count": 24,
   "metadata": {},
   "outputs": [],
   "source": [
    "def BifurcationDiagram_average(output):\n",
    "    [ws, trajx, trajb, traje, wsm, trajxm, trajbm, trajem, bstars, bmins, bmaxs] = output\n",
    "    \n",
    "    plt.subplots(1, 2, sharex = True, figsize=(80,20), tight_layout = True)\n",
    "    plt.rcParams['font.size'] = '60'\n",
    "    \n",
    "    # plt.subplot(211)\n",
    "    # xlim((ws[0]-1,ws[-1]+1))\n",
    "    # scatter(ws, trajx, marker ='.', s = 0.1)\n",
    "    # plot(wsm,bstars,'r')\n",
    "    # plot(wsm,bmins,'--r')\n",
    "    # plot(wsm,bmaxs,'--r')\n",
    "    # ylabel('Basefee')\n",
    "    # title('Individual trajectories')\n",
    "    \n",
    "    plt.subplot(121)\n",
    "    scatter(wsm, trajxm, marker ='.', s = 50)\n",
    "    plot(wsm,bstars,'r')\n",
    "    plot(wsm,bmins,'--r')\n",
    "    plot(wsm,bmaxs,'--r')\n",
    "    #lgnd = legend(['$b*$','$(1-d)b*$', '$(1+d)b*$','base fee $b_t$'], bbox_to_anchor=(1.3,1.035), loc=\"upper right\")\n",
    "    lgnd = legend(['$b*$','$(1-d)b*$', '$(1+d)b*$','base fee $b_t$'], loc=\"upper left\")\n",
    "    lgnd.legendHandles[3]._sizes = [500]   \n",
    "    #title('Averages: base fee (up), block sizes (down)')\n",
    "    # xlabel('Demand range $w$', fontsize=60)\n",
    "    ylabel('Base fee dynamics', fontsize=60)\n",
    "    xlabel('Learning rate $d$', fontsize=60)\n",
    "    plt.xticks(fontsize=60);\n",
    "    plt.yticks(fontsize=60);\n",
    "    xlim([0, 0.6])\n",
    "\n",
    "    #savefig('bf_demand_normal.jpg',bbox_inches='tight', dpi=50)\n",
    "    \n",
    "    # plt.subplot(323)\n",
    "    # scatter(ws, trajb, marker ='.', s = 0.1)\n",
    "    # #xlabel('Range of valuations $w$')\n",
    "    # ylabel('Block-size')\n",
    "            \n",
    "    plt.subplot(122)\n",
    "    scatter(wsm, trajbm, marker ='.', s = 50)\n",
    "    ylabel('Block sizes', fontsize=60)\n",
    "    xlabel('Learning rate $d$',fontsize=60)\n",
    "    xlim([0, 0.6])\n",
    "    plt.ylim(top=0.67)\n",
    "    lgnd = legend(['base fee $b_t$','$(1-d)b*$', '$(1+d)b*$','base fee $b_t$'], loc=\"upper left\")\n",
    "    lgnd.legendHandles[0]._sizes = [500] \n",
    "    \n",
    "#     plt.subplot(325)\n",
    "#     scatter(ws, traje, marker ='.', s = 0.1)\n",
    "#     ylim((min(traje)-2, max(traje)+1))\n",
    "#     xlabel('Range of valuations $w$')\n",
    "#     ylabel('Excess gas')\n",
    "            \n",
    "#     plt.subplot(326)\n",
    "#     scatter(wsm, trajem, marker ='.', s = 1)\n",
    "#     ylim((min(traje)-2, max(traje)+1))\n",
    "#     xlabel('Range of valuations $w$')"
   ]
  },
  {
   "cell_type": "code",
   "execution_count": 25,
   "metadata": {},
   "outputs": [],
   "source": [
    "#uncomment to generate average trajectory plots\n",
    "#BifurcationDiagram_average(output)\n",
    "#savefig('bf_rate_averages_normal.jpg',bbox_inches='tight', dpi=50)"
   ]
  }
 ],
 "metadata": {
  "kernelspec": {
   "display_name": "Python 3 (ipykernel)",
   "language": "python",
   "name": "python3"
  },
  "language_info": {
   "codemirror_mode": {
    "name": "ipython",
    "version": 3
   },
   "file_extension": ".py",
   "mimetype": "text/x-python",
   "name": "python",
   "nbconvert_exporter": "python",
   "pygments_lexer": "ipython3",
   "version": "3.9.7"
  }
 },
 "nbformat": 4,
 "nbformat_minor": 4
}
